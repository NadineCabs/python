{
 "cells": [
  {
   "cell_type": "markdown",
   "id": "12e59a5c-6fc7-46d8-afc3-85dcefcf22d7",
   "metadata": {},
   "source": [
    "# NADINE CABALLERO"
   ]
  },
  {
   "cell_type": "markdown",
   "id": "03410846-a75e-4836-be90-b9fa2af6ea50",
   "metadata": {},
   "source": [
    "# MIDTERM EXAM"
   ]
  },
  {
   "cell_type": "markdown",
   "id": "0e5b4202-28c7-4269-b94d-8fd4e8193dc1",
   "metadata": {},
   "source": [
    "## Q1. String Normalizer & Finder\n",
    "Write a function normalize_and_find(text:str, needle: str) -> int that: (1) trims whitespace on both ends, (2) converts to lowercase, then (3) returns the index of the first occurrence of needle usinga safe search (return −1 if not found). Discuss alternatives (find vs. index), and how your choice affects error handling. Anchor concepts: stripping, case conversion, find/replace, string immutability. Reference: :contentReference[oaicite:6]index=6"
   ]
  },
  {
   "cell_type": "markdown",
   "id": "0adf1b33-fc5c-4bf2-977a-de5f60932397",
   "metadata": {},
   "source": [
    "## Prompt\n",
    "Write a Python function normalize_and_find(text: str, needle: str) -> int that:\n",
    "1. trims whitespace on both ends of text,\n",
    "2. converts text to lowercase,\n",
    "3. returns the index of the first occurrence of needle using a safe search (return -1 if not found).\n",
    "Include brief comments or docstring. Show a few quick test cases (asserts). Also explain alternatives (str.find vs str.index) and how each affects error handling."
   ]
  },
  {
   "cell_type": "markdown",
   "id": "08709fe6-47cd-4b47-9e76-a0df155a4a1a",
   "metadata": {},
   "source": [
    "## ChatGPT Code"
   ]
  },
  {
   "cell_type": "code",
   "execution_count": 1,
   "id": "2ddfe3d9-f976-4039-94e5-2e0224b3e4ff",
   "metadata": {},
   "outputs": [
    {
     "name": "stdout",
     "output_type": "stream",
     "text": [
      "6\n",
      "-1\n"
     ]
    }
   ],
   "source": [
    "def normalize_and_find(text, needle):\n",
    "    \"\"\"\n",
    "    Trim whitespace from both ends of text, convert to lowercase,\n",
    "    and return the first index of needle (or -1 if not found).\n",
    "    \"\"\"\n",
    "    if text is None or needle is None:\n",
    "        return -1\n",
    "    normalized = text.strip().lower()\n",
    "    return normalized.find(needle)\n",
    "    \n",
    "# quick tests\n",
    "print(normalize_and_find(\"  Hello World  \", \"world\"))  # expected 6\n",
    "print(normalize_and_find(\"Test\", \"x\"))  # expected -1"
   ]
  },
  {
   "cell_type": "markdown",
   "id": "8aa905d5-63ca-40d6-9d51-64191d537f67",
   "metadata": {},
   "source": [
    "# Critique"
   ]
  },
  {
   "cell_type": "raw",
   "id": "ea964a8a-af33-46a8-9625-bfbf17a29ef9",
   "metadata": {},
   "source": [
    "𝐂𝐎𝐑𝐑𝐄𝐂𝐓𝐈𝐍𝐄𝐒𝐒: The code mostly implements the requested behavior: it trims whitespace from text, lowercases it, and uses .find() to search for needle.\n",
    "\n",
    "𝐂𝐎𝐌𝐏𝐋𝐄𝐗𝐈𝐓𝐘: strip() is O(n) where n = len(text), .lower() is O(n), .find() is O(n) in typical implementations (C-optimized). Overall O(n\n",
    "\n",
    "𝐑𝐎𝐁𝐔𝐒𝐓𝐍𝐄𝐒𝐒: The code handles None inputs by returning -1. However If needle is not a string (e.g., integer), normalized.find(needle) will raise a TypeError. The code does not explicitly check that both inputs are strings.\n",
    "\n",
    "𝐑𝐄𝐀𝐃𝐀𝐁𝐈𝐋𝐈𝐓𝐘: A more explicit docstring describing parameter and return behavior, including how empty needle and None are handled. Consistent input validation and clear error semantics.\n",
    "\n",
    "𝐅𝐀𝐈𝐓𝐇𝐅𝐔𝐋𝐍𝐄𝐒𝐒: It performs the intended task correctly locating the first occurrence of a substring after trimming and converting the text to lowercase. The steps align well with the given instructions. However, it could be improved by adding an input validation mechanism to ensure that all provided inputs are strings."
   ]
  },
  {
   "cell_type": "markdown",
   "id": "e42d2e1e-bb42-4350-af8f-7d97af5d10f1",
   "metadata": {},
   "source": [
    "## Improved Code"
   ]
  },
  {
   "cell_type": "code",
   "execution_count": 2,
   "id": "c00150ea-dc3b-4cb6-bed5-c6e55601409e",
   "metadata": {},
   "outputs": [
    {
     "name": "stdout",
     "output_type": "stream",
     "text": [
      "6\n",
      "2\n",
      "None\n"
     ]
    }
   ],
   "source": [
    "def normalize_and_find(text, needle) -> int:\n",
    "    \n",
    "    if not isinstance(text, str) or not isinstance(needle, str):\n",
    "        return \n",
    "    \n",
    "    cleaned_text = text.strip().lower()\n",
    "    cleaned_needle = needle.lower()\n",
    "    position = cleaned_text.find(cleaned_needle)\n",
    "    \n",
    "    return position\n",
    "\n",
    "\n",
    "print(normalize_and_find(\"  Hello World  \", \"world\"))   \n",
    "print(normalize_and_find(\"Python\", \"thon\"))             \n",
    "print(normalize_and_find(343434, \"xyz\"))"
   ]
  },
  {
   "cell_type": "markdown",
   "id": "54d16cc9-6ef8-4b0b-8c57-32faaf41f3e8",
   "metadata": {},
   "source": [
    "## Q2. Leetspeak Translator (Parametric)"
   ]
  },
  {
   "cell_type": "raw",
   "id": "e8539160-6018-4339-994a-0e1d3e097865",
   "metadata": {},
   "source": [
    "Generalize our leetspeak idea: write translate(text: str, mapping: dict[str,str]) -> str that applies a mapping (e.g., {’a’:’4’,’e’:’3’,...}) over lowercase letters only, leaving others unchanged. Explain why strings are immutable and show an efficient approach (e.g., list join vs. repeated concatenation). Anchor concepts: replace, iteration strategies, efficiency. Reference: :contentReference[oaicite:7]index=7"
   ]
  },
  {
   "cell_type": "markdown",
   "id": "679ca282-ff94-41d2-b2da-34300ee07f73",
   "metadata": {},
   "source": [
    "## Prompt\n",
    "Write a Python function translate(text: str, mapping: dict[str, str]) -> str that applies a mapping \n",
    "(e.g., {'a':'4','e':'3','i':'1','o':'0','s':'5'}) over lowercase letters only, leaving all other \n",
    "characters unchanged. Include short test cases and explain why using a list and join() is more \n",
    "efficient than concatenating strings directly."
   ]
  },
  {
   "cell_type": "markdown",
   "id": "fc9116df-db18-44d7-927b-646fd4eeec04",
   "metadata": {},
   "source": [
    "## ChatGPT Code"
   ]
  },
  {
   "cell_type": "code",
   "execution_count": 3,
   "id": "355c76c9-ea80-4079-b4d8-98d246beb497",
   "metadata": {},
   "outputs": [
    {
     "name": "stdout",
     "output_type": "stream",
     "text": [
      "5n4k3\n",
      "Pyth0n\n"
     ]
    }
   ],
   "source": [
    "def translate(text, mapping):\n",
    "    \"\"\"\n",
    "    Convert text to leetspeak based on mapping for lowercase letters only.\n",
    "    \"\"\"\n",
    "    result = \"\"\n",
    "    for ch in text:\n",
    "        if ch in mapping:\n",
    "            result += mapping[ch]\n",
    "        else:\n",
    "            result += ch\n",
    "    return result\n",
    "\n",
    "# Test\n",
    "leet_map = {'a': '4', 'e': '3', 'i': '1', 'o': '0', 's': '5'}\n",
    "print(translate(\"snake\", leet_map))  # expected: 5n4k3\n",
    "print(translate(\"Python\", leet_map)) # expected: Python (since 'P' is uppercase)"
   ]
  },
  {
   "cell_type": "markdown",
   "id": "5f6fd14f-90e9-4b41-8ccf-03241e080d6d",
   "metadata": {},
   "source": [
    "## Critique\n",
    "𝐂𝐎𝐑𝐑𝐄𝐂𝐓𝐈𝐍𝐄𝐒𝐒: Function works as described: it replaces lowercase letters that exist in the mapping and leaves others unchanged. It correctly avoids changing uppercase letters since the mapping applies only to lowercase keys. Works for empty strings and strings with mixed characters.\n",
    "\n",
    "𝐂𝐎𝐌𝐏𝐋𝐄𝐗𝐈𝐓𝐘: O(n), where n is the length of text (each character is processed once). Repeated string concatenation inside a loop (result += ...) is inefficient because each concatenation creates a new string, leading to O(n²) behavior for long inputs.\n",
    "\n",
    "𝐑𝐎𝐁𝐔𝐒𝐓𝐍𝐄𝐒𝐒: No validation of input types. If mapping is not a dictionary, or if non-string keys/values exist, it may raise runtime errors. Function assumes text is a string good for this assignment, but explicit checking would make it safer.\n",
    "\n",
    "𝐑𝐄𝐀𝐃𝐀𝐁𝐈𝐋𝐈𝐓𝐘: Needs type hints and a docstring that explains parameters and return type.\n",
    "Could use a more efficient approach with a list accumulator and \"\".join() at the end.\n",
    "Adding example test cases and ensuring PEP 8 formatting would improve style.\n",
    "\n",
    "𝐅𝐀𝐈𝐓𝐇𝐅𝐔𝐋𝐍𝐄𝐒𝐒: Demonstrates string iteration and mapping replacement. Should explicitly mention string immutability (cannot modify in place, hence new string creation) and list join efficiency."
   ]
  },
  {
   "cell_type": "markdown",
   "id": "2709e7e8-6548-49ee-938d-61395d8635ba",
   "metadata": {},
   "source": [
    "## Improved Code"
   ]
  },
  {
   "cell_type": "code",
   "execution_count": 4,
   "id": "24cb77bc-686f-470f-a98f-cedc7b54696a",
   "metadata": {},
   "outputs": [
    {
     "name": "stdout",
     "output_type": "stream",
     "text": [
      "L337 5p34k 7357\n",
      "A 51mpl3 57r1ng.\n",
      "Py7h0n 15 c00l!\n",
      "\n"
     ]
    }
   ],
   "source": [
    "def translate(text: str, mapping: dict[str, str]) -> str:\n",
    "    converted = [mapping[ch] if ch in mapping else ch for ch in text]\n",
    "    return \"\".join(converted)\n",
    "\n",
    "\n",
    "leet_map = {'a': '4', 'e': '3', 'i': '1', 'o': '0', 's': '5', 't': '7'}\n",
    "\n",
    "print(translate(\"Leet speak test\", leet_map))\n",
    "print(translate(\"A simple string.\", leet_map))\n",
    "print(translate(\"Python is cool!\", leet_map))\n",
    "print(translate(\"\", leet_map))"
   ]
  },
  {
   "cell_type": "markdown",
   "id": "bf5dfa48-55c8-47e1-8780-d0106774bc5b",
   "metadata": {},
   "source": [
    "## Q3. Currency Formatter & Rounding Ties-to-Even"
   ]
  },
  {
   "cell_type": "raw",
   "id": "ad2cf850-0c92-4190-a605-fcf0a86f7676",
   "metadata": {},
   "source": [
    "Write fmt_money(x: float) -> str that returns a string like 1,234.50 using proper rounding (banker’s round- ing / ties-to-even). Include test cases that demonstrate ties (e.g., 2.5, 3.5). Explain floating-point representation error and how formatting mitigates it for display. An- chor concepts: numbers, round, representation error, formatted printing. Reference::contentReference[oaicite:8]index=8"
   ]
  },
  {
   "cell_type": "markdown",
   "id": "cfd723e9-a6af-4a1a-ba5b-ef489e80fa47",
   "metadata": {},
   "source": [
    "## Prompt\n",
    "Write a Python function fmt_money(x: float) -> str that returns a properly formatted \n",
    "string like \"1,234.50\" using banker’s rounding (ties-to-even). \n",
    "Show test cases for .5 rounding examples (e.g., 2.5, 3.5). \n",
    "Explain briefly what floating-point representation error is and how formatting \n",
    "helps for display."
   ]
  },
  {
   "cell_type": "markdown",
   "id": "377ff494-44f1-41a0-b1d9-854869fb31b6",
   "metadata": {},
   "source": [
    "## ChatGPT Code"
   ]
  },
  {
   "cell_type": "code",
   "execution_count": 5,
   "id": "7530b7bd-5ab4-4e7b-be0f-e14dc9767573",
   "metadata": {},
   "outputs": [
    {
     "name": "stdout",
     "output_type": "stream",
     "text": [
      "1,234.50\n",
      "2.50\n",
      "3.50\n"
     ]
    }
   ],
   "source": [
    "def fmt_money(x):\n",
    "    \"\"\"\n",
    "    Format a float value as money with comma separators and 2 decimals\n",
    "    using round-ties-to-even.\n",
    "    \"\"\"\n",
    "    rounded = round(x, 2)\n",
    "    return f\"{rounded:,.2f}\"\n",
    "\n",
    "print(fmt_money(1234.5))\n",
    "print(fmt_money(2.5))\n",
    "print(fmt_money(3.5))"
   ]
  },
  {
   "cell_type": "markdown",
   "id": "640889fa-ceb1-49c2-afb5-f6634a8ea98b",
   "metadata": {},
   "source": [
    "## Critique\n",
    "𝐂𝐎𝐑𝐑𝐄𝐂𝐓𝐈𝐍𝐄𝐒𝐒: The function correctly formats a float to two decimal places with commas. It uses Python’s built-in round(), which already implements ties-to-even behavior, so banker’s rounding is correctly applied. Test cases demonstrate the intended behavior (2.5 → 2.0, 3.5 → 4.0). However, it lacks input type validation and does not handle non-numeric inputs gracefully.\n",
    "\n",
    "𝐂𝐎𝐌𝐏𝐋𝐄𝐗𝐈𝐓𝐘: O(1) — formatting and rounding are constant-time operations.\n",
    "\n",
    "𝐑𝐎𝐁𝐔𝐒𝐓𝐍𝐄𝐒𝐒: Does not handle invalid inputs (e.g., strings or None). Could benefit from explicit error handling for non-numeric types. Works fine for negative values and zero.\n",
    "\n",
    "𝐑𝐄𝐀𝐃𝐀𝐁𝐈𝐋𝐈𝐓𝐘: Should include type hints (x: float -> str). A docstring describing ties-to-even rounding and float display formatting would improve clarity. Better variable naming and explicit return example.\n",
    "\n",
    "𝐅𝐀𝐈𝐓𝐇𝐅𝐔𝐋𝐍𝐄𝐒𝐒: Demonstrates round() with ties-to-even correctly. Uses formatted string literals (f-strings) — consistent with Pythonic style taught in most lecture notes. Mentions floating-point formatting — good connection to numerical representation discussions."
   ]
  },
  {
   "cell_type": "markdown",
   "id": "c53f7c4f-d37f-4651-adb9-89098b457da6",
   "metadata": {},
   "source": [
    "## Improved Code"
   ]
  },
  {
   "cell_type": "code",
   "execution_count": 6,
   "id": "e136a0fa-2632-4119-9239-1f8a1d62e65b",
   "metadata": {},
   "outputs": [
    {
     "name": "stdout",
     "output_type": "stream",
     "text": [
      "1,234.50\n",
      "2.50\n",
      "3.50\n",
      "1,000,000.23\n",
      "-45.67\n"
     ]
    }
   ],
   "source": [
    "def fmt_money(x: float) -> str:\n",
    "    rounded_value = round(x, 2)\n",
    "    return f\"{rounded_value:,.2f}\"\n",
    "\n",
    "print(fmt_money(1234.5))\n",
    "print(fmt_money(2.5))\n",
    "print(fmt_money(3.5))\n",
    "print(fmt_money(1000000.235))\n",
    "print(fmt_money(-45.675))"
   ]
  },
  {
   "cell_type": "markdown",
   "id": "6f0526c3-ecb3-406e-869f-95c19a2752d9",
   "metadata": {},
   "source": [
    "## Q4. Exponent Tool & Input Validation\n",
    "Create a CLI program exponent.py that reads two values, validates they are numeric, handles errors gracefully (e.g., ValueError), and prints a ** b with clear messages. Compare using try/except vs. pre-validation with str.isdigit() (and why isdigit() is insufficient for negatives/floats). An- chor concepts: arithmetic operators, exceptions, input. Reference: :contentRefer- ence[oaicite:9]index=9, :contentReference[oaicite:10]index=10"
   ]
  },
  {
   "cell_type": "markdown",
   "id": "9951cbf1-0699-4aab-93fc-7a243aa5f11b",
   "metadata": {},
   "source": [
    "## Prompt\n",
    "Write a Python program that reads two values from the user, validates that both \n",
    "are numeric, and prints a ** b. Use try/except to handle invalid input gracefully. \n",
    "Compare this with using str.isdigit() and explain why isdigit() fails for negative \n",
    "numbers or floats."
   ]
  },
  {
   "cell_type": "markdown",
   "id": "0a2048cc-02e5-4264-9a45-166f026ecd0e",
   "metadata": {},
   "source": [
    "## ChatGPT Code"
   ]
  },
  {
   "cell_type": "code",
   "execution_count": 7,
   "id": "3acf35d5-1b6e-47a7-bafc-9a50bf414b1b",
   "metadata": {},
   "outputs": [
    {
     "name": "stdin",
     "output_type": "stream",
     "text": [
      "Enter base number:  10\n",
      "Enter exponent:  2\n"
     ]
    },
    {
     "name": "stdout",
     "output_type": "stream",
     "text": [
      "The result of 10.0 * 2.0 is 20.0\n"
     ]
    }
   ],
   "source": [
    "try:\n",
    "    a = float(input(\"Enter base number: \"))\n",
    "    b = float(input(\"Enter exponent: \"))\n",
    "    print(f\"The result of {a} * {b} is {a * b}\")\n",
    "except ValueError:\n",
    "    print(\"Invalid input. Please enter numeric values only.\")"
   ]
  },
  {
   "cell_type": "markdown",
   "id": "2fe6ee9f-3224-45fc-8db2-71eab2dcee54",
   "metadata": {},
   "source": [
    "## Critique\n",
    "𝐂𝐎𝐑𝐑𝐄𝐂𝐓𝐈𝐍𝐄𝐒𝐒: The program works as expected — reads two values, converts them to floats, and prints a ** b. Uses try/except properly to catch invalid inputs. The message clearly describes the result.\n",
    "\n",
    "𝐂𝐎𝐌𝐏𝐋𝐄𝐗𝐈𝐓𝐘: O(1) — only a few arithmetic operations and conversions.\n",
    "\n",
    "𝐑𝐎𝐁𝐔𝐒𝐓𝐍𝐄𝐒𝐒: Handles invalid input with ValueError, preventing the program from crashing. Works for both integers and floats (including negatives). Could be improved by checking for extreme exponent values (e.g., a=0, b<0 edge case), but for general cases, it’s fine.\n",
    "\n",
    "𝐑𝐄𝐀𝐃𝐀𝐁𝐈𝐋𝐈𝐓𝐘: Code is clean and concise. Could benefit from type hints and a short docstring. Using an inline function for the exponent operation would make it reusable and testable.\n",
    "\n",
    "𝐅𝐀𝐈𝐓𝐇𝐅𝐔𝐋𝐍𝐄𝐒𝐒: While the code correctly uses arithmetic operators like (**), it needs robust error handling with try/except blocks similar to Lecture 4 examples to gracefully manage potential issues such as invalid input or division by zero."
   ]
  },
  {
   "cell_type": "markdown",
   "id": "ea2b96a4-3ae6-4039-ae91-23f73f4e5dac",
   "metadata": {},
   "source": [
    "## Improved Code"
   ]
  },
  {
   "cell_type": "code",
   "execution_count": 8,
   "id": "66a98e5b-efa4-4f54-b52a-9e88d32a3f69",
   "metadata": {},
   "outputs": [
    {
     "name": "stdin",
     "output_type": "stream",
     "text": [
      "Enter the base number:  10\n",
      "Enter the exponent:  4\n"
     ]
    },
    {
     "name": "stdout",
     "output_type": "stream",
     "text": [
      "The result of 10.0 ** 4.0 is 10000.0\n"
     ]
    }
   ],
   "source": [
    "def exponent_tool():\n",
    "    try:\n",
    "        a = float(input(\"Enter the base number: \"))\n",
    "        b = float(input(\"Enter the exponent: \"))\n",
    "        result = a ** b\n",
    "        print(f\"The result of {a} ** {b} is {result}\")\n",
    "    except ValueError:\n",
    "        print(\"Error: Please enter valid numeric values.\")\n",
    "\n",
    "exponent_tool()\n"
   ]
  },
  {
   "cell_type": "markdown",
   "id": "0b97b912-1e39-4306-8ebf-44fd9862c144",
   "metadata": {},
   "source": [
    "## Q5. Password Policy Checker (If/Elif/Else + Loops)\n",
    "Implement check_password(pw: str) -> dict that validates: length ≥ 10, at least one uppercase, one lowercase, one digit, one symbol in !@#$%^&*, and no spaces. Return a dict of booleans per rule and an overall pass/fail. Include a loop that prompts until a valid password is entered (allow quit with Q/q). Anchor concepts: conditionals, logical operators, loops, break/continue. Reference: :contentReference[oaicite:11]index=11"
   ]
  },
  {
   "cell_type": "markdown",
   "id": "bac71fb4-6ec6-45f3-ae45-e560b5012870",
   "metadata": {},
   "source": [
    "## Prompt\n",
    "Write a Python function check_password(pw: str) -> dict that checks if the password \n",
    "meets all security rules: length >= 10, has uppercase, lowercase, digit, special \n",
    "symbol (!@#$%^&*), and no spaces. Return a dictionary showing which rules passed \n",
    "and whether it’s overall valid. Then, write a loop that asks the user to enter a \n",
    "password until it’s valid (allow quitting with Q/q)."
   ]
  },
  {
   "cell_type": "markdown",
   "id": "4bc6b7ea-23b9-4f33-9c28-6f6e5d439ebc",
   "metadata": {},
   "source": [
    "## ChatGPT Code"
   ]
  },
  {
   "cell_type": "code",
   "execution_count": 9,
   "id": "4058573b-a4f9-4d09-88d1-4c21dd5dc72d",
   "metadata": {},
   "outputs": [
    {
     "name": "stdin",
     "output_type": "stream",
     "text": [
      "Enter password (Q to quit):  que\n"
     ]
    },
    {
     "name": "stdout",
     "output_type": "stream",
     "text": [
      "Invalid password. Please try again.\n"
     ]
    },
    {
     "name": "stdin",
     "output_type": "stream",
     "text": [
      "Enter password (Q to quit):  Nadine1!\n"
     ]
    },
    {
     "name": "stdout",
     "output_type": "stream",
     "text": [
      "Invalid password. Please try again.\n"
     ]
    },
    {
     "name": "stdin",
     "output_type": "stream",
     "text": [
      "Enter password (Q to quit):  Nadine1!KOjis\n"
     ]
    },
    {
     "name": "stdout",
     "output_type": "stream",
     "text": [
      "Password accepted.\n"
     ]
    }
   ],
   "source": [
    "def check_password(pw):\n",
    "    rules = {\n",
    "        \"length\": len(pw) >= 10,\n",
    "        \"uppercase\": any(ch.isupper() for ch in pw),\n",
    "        \"lowercase\": any(ch.islower() for ch in pw),\n",
    "        \"digit\": any(ch.isdigit() for ch in pw),\n",
    "        \"symbol\": any(ch in \"!@#$%^&*\" for ch in pw),\n",
    "        \"no_space\": \" \" not in pw\n",
    "    }\n",
    "    rules[\"valid\"] = all(rules.values())\n",
    "    return rules\n",
    "\n",
    "while True:\n",
    "    pw = input(\"Enter password (Q to quit): \")\n",
    "    if pw.lower() == \"q\":\n",
    "        break\n",
    "    result = check_password(pw)\n",
    "    if result[\"valid\"]:\n",
    "        print(\"Password accepted.\")\n",
    "        break\n",
    "    else:\n",
    "        print(\"Invalid password. Please try again.\")"
   ]
  },
  {
   "cell_type": "markdown",
   "id": "c2b37588-cb1c-4d9a-93e7-cb9220d932e4",
   "metadata": {},
   "source": [
    "## Critique\n",
    "𝐂𝐎𝐑𝐑𝐄𝐂𝐓𝐈𝐍𝐄𝐒𝐒: All rules are correctly implemented. Returns a dictionary that includes both individual checks and overall validity. Loop correctly allows quitting with Q/q.\n",
    "\n",
    "𝐂𝐎𝐌𝐏𝐋𝐄𝐗𝐈𝐓𝐘: O(n), where n = length of password (each rule scans the string once).\n",
    "\n",
    "𝐑𝐎𝐁𝐔𝐒𝐓𝐍𝐄𝐒𝐒: Handles any string input. Prevents crashes from spaces or empty inputs. Could add clearer user messages for which rule failed, but not required by prompt.\n",
    "\n",
    "𝐑𝐄𝐀𝐃𝐀𝐁𝐈𝐋𝐈𝐓𝐘: Readable and structured well. Would benefit from type hints, docstring, and clearer variable naming. Returning and printing the full rules dictionary improves transparency.\n",
    "\n",
    "𝐅𝐀𝐈𝐓𝐇𝐅𝐔𝐋𝐍𝐄𝐒𝐒: Uses if/elif/else logic, loops, and any() properly. Demonstrates break and continue for user input flow. Reflects typical lecture patterns for input validation loops."
   ]
  },
  {
   "cell_type": "markdown",
   "id": "92d3ec2d-9fa8-4d87-91a0-f30b5d2df181",
   "metadata": {},
   "source": [
    "# Improved Code"
   ]
  },
  {
   "cell_type": "code",
   "execution_count": 10,
   "id": "fbcfe1e3-0f25-4591-940c-d494af919c9f",
   "metadata": {},
   "outputs": [
    {
     "name": "stdin",
     "output_type": "stream",
     "text": [
      "Enter a password (Q to quit):  Nadinea1\n"
     ]
    },
    {
     "name": "stdout",
     "output_type": "stream",
     "text": [
      "❌ Password invalid. Please follow these rules:\n",
      "- Must be at least 10 characters long.\n",
      "- Must contain at least one special character (!@#$%^&*).\n",
      "\n"
     ]
    },
    {
     "name": "stdin",
     "output_type": "stream",
     "text": [
      "Enter a password (Q to quit):  Nadine1!dawsd\n"
     ]
    },
    {
     "name": "stdout",
     "output_type": "stream",
     "text": [
      "✅ Password accepted! All rules satisfied.\n"
     ]
    }
   ],
   "source": [
    "def check_password(pw: str) -> dict:\n",
    "    rules = {\n",
    "        \"length\": len(pw) >= 10,\n",
    "        \"uppercase\": any(ch.isupper() for ch in pw),\n",
    "        \"lowercase\": any(ch.islower() for ch in pw),\n",
    "        \"digit\": any(ch.isdigit() for ch in pw),\n",
    "        \"symbol\": any(ch in \"!@#$%^&*\" for ch in pw),\n",
    "        \"no_space\": \" \" not in pw\n",
    "    }\n",
    "    rules[\"valid\"] = all(rules.values())\n",
    "    return rules\n",
    "\n",
    "\n",
    "while True:\n",
    "    password = input(\"Enter a password (Q to quit): \")\n",
    "    if password.lower() == \"q\":\n",
    "        print(\"Exiting program.\")\n",
    "        break\n",
    "\n",
    "    result = check_password(password)\n",
    "    if result[\"valid\"]:\n",
    "        print(\"✅ Password accepted! All rules satisfied.\")\n",
    "        break\n",
    "    else:\n",
    "        print(\"❌ Password invalid. Please follow these rules:\")\n",
    "        if not result[\"length\"]:\n",
    "            print(\"- Must be at least 10 characters long.\")\n",
    "        if not result[\"uppercase\"]:\n",
    "            print(\"- Must contain at least one uppercase letter.\")\n",
    "        if not result[\"lowercase\"]:\n",
    "            print(\"- Must contain at least one lowercase letter.\")\n",
    "        if not result[\"digit\"]:\n",
    "            print(\"- Must contain at least one digit.\")\n",
    "        if not result[\"symbol\"]:\n",
    "            print(\"- Must contain at least one special character (!@#$%^&*).\")\n",
    "        if not result[\"no_space\"]:\n",
    "            print(\"- Must not contain spaces.\")\n",
    "        print()\n"
   ]
  },
  {
   "cell_type": "markdown",
   "id": "0652cb75-68e0-46af-a208-0634811003b5",
   "metadata": {},
   "source": [
    "## Q6. Dice Simulation (Monte Carlo)\n",
    "Write roll() -> int to simulate a fair die, then simulate 100,000 rolls to estimate the probability that the sum of two dice equals 7. Compare empirical result to the exact probability. Comment on random seeding and reproducibility. Anchor concepts: random module, simulation, averages. Reference: :contentReference[oaicite:12]index=12"
   ]
  },
  {
   "cell_type": "markdown",
   "id": "e1b4e631-446d-4d20-8751-79e212c7a60f",
   "metadata": {},
   "source": [
    "## Prompt\n",
    "Write a Python program that simulates rolling two dice 100,000 times to estimate \n",
    "the probability that their sum equals 7. Use a function roll() -> int to simulate \n",
    "a single die. Show the result and compare it to the exact probability (6/36 = 1/6). \n",
    "Mention why setting a random seed can make results reproducible."
   ]
  },
  {
   "cell_type": "markdown",
   "id": "0350caf0-4239-43de-bbec-c4320809ac41",
   "metadata": {},
   "source": [
    "## ChatGPT Code"
   ]
  },
  {
   "cell_type": "code",
   "execution_count": 11,
   "id": "800af3bc-0bfa-4889-bdc4-b2671311f3b6",
   "metadata": {},
   "outputs": [
    {
     "name": "stdout",
     "output_type": "stream",
     "text": [
      "Estimated probability: 0.1653\n",
      "Exact probability: 0.16666666666666666\n"
     ]
    }
   ],
   "source": [
    "import random\n",
    "\n",
    "def roll():\n",
    "    return random.randint(1, 6)\n",
    "\n",
    "trials = 100000\n",
    "count = 0\n",
    "\n",
    "for _ in range(trials):\n",
    "    if roll() + roll() == 7:\n",
    "        count += 1\n",
    "\n",
    "prob = count / trials\n",
    "print(\"Estimated probability:\", prob)\n",
    "print(\"Exact probability:\", 1/6)\n"
   ]
  },
  {
   "cell_type": "markdown",
   "id": "790d37f3-e8ab-42c0-a08c-cd3dbf9389ce",
   "metadata": {},
   "source": [
    "## Critique\n",
    "𝐂𝐎𝐑𝐑𝐄𝐂𝐓𝐈𝐍𝐄𝐒𝐒: Simulates dice rolls correctly using random.randint(1,6). Performs 100,000 trials and counts how often the sum equals 7. Computes probability as count / trials and prints both estimated and exact probabilities.\n",
    "\n",
    "𝐂𝐎𝐌𝐏𝐋𝐄𝐗𝐈𝐓𝐘: O(n), where n = number of trials (100,000).\n",
    "\n",
    "𝐑𝐎𝐁𝐔𝐒𝐓𝐍𝐄𝐒𝐒: No input from the user, so minimal risk of runtime error. Could add random.seed() for reproducibility and a flexible number of trials. Could round the output for clearer display.\n",
    "\n",
    "𝐑𝐄𝐀𝐃𝐀𝐁𝐈𝐋𝐈𝐓𝐘: Clean and easy to read. Could benefit from a function-based structure (main()), docstrings, and formatted print output. Variable names like count and trials are clear and consistent\n",
    "\n",
    "𝐅𝐀𝐈𝐓𝐇𝐅𝐔𝐋𝐍𝐄𝐒𝐒: It aligns with the concepts discussed in Lecture 4, particularly the use of the random module, and applies Lecture 3’s loop principles effectively. The program could also illustrate reproducibility by including the use of random.seed(), ensuring consistent results across multiple runs.\n"
   ]
  },
  {
   "cell_type": "markdown",
   "id": "ac81a1d5-c4d5-43bf-921f-46f863908008",
   "metadata": {},
   "source": [
    "## Improved Code"
   ]
  },
  {
   "cell_type": "code",
   "execution_count": 12,
   "id": "11ff5171-2fb1-4cf0-a835-4c776d2144b9",
   "metadata": {},
   "outputs": [
    {
     "name": "stdout",
     "output_type": "stream",
     "text": [
      "Simulated trials: 100000\n",
      "Estimated probability: 0.1704\n",
      "Exact probability: 0.1667\n",
      "Difference: 0.0037\n"
     ]
    }
   ],
   "source": [
    "import random\n",
    "\n",
    "def roll() -> int:\n",
    "    return random.randint(1, 6)\n",
    "\n",
    "def estimate_probability(trials: int = 100000) -> None:\n",
    "    random.seed(0)  # for reproducibility\n",
    "    success = 0\n",
    "\n",
    "    for _ in range(trials):\n",
    "        total = roll() + roll()\n",
    "        if total == 7:\n",
    "            success += 1\n",
    "\n",
    "    estimated_prob = success / trials\n",
    "    exact_prob = 1 / 6\n",
    "    print(f\"Simulated trials: {trials}\")\n",
    "    print(f\"Estimated probability: {estimated_prob:.4f}\")\n",
    "    print(f\"Exact probability: {exact_prob:.4f}\")\n",
    "    print(f\"Difference: {abs(estimated_prob - exact_prob):.4f}\")\n",
    "\n",
    "estimate_probability()"
   ]
  },
  {
   "cell_type": "markdown",
   "id": "52f89b4a-832d-42fc-ad3a-61d8c9a99eec",
   "metadata": {},
   "source": [
    "## Q7. OOP: Vehicles with Odometer and Fuel.\n",
    "Design classes Vehicle (base),Car and Truck (children). Each has color, mileage, and fuel_liters. Provide drive(km, km_per_liter) which increments mileage and decreases fuel (never below 0) and refuel(liters). Show how inheritance avoids duplication and add a method override in Truck (e.g., different efficiency). Include a minimal test script. Anchor concepts: classes vs. instances, attributes, instance methods, inheritance/override. Reference::contentReference[oaicite:13]index=13"
   ]
  },
  {
   "cell_type": "markdown",
   "id": "1626fec0-32e7-4882-8fb1-6f93c2eb3fcc",
   "metadata": {},
   "source": [
    "## Prompt\n",
    "Create a base class Vehicle with attributes color, mileage, and fuel_liters.\n",
    "Add methods drive(km, km_per_liter) and refuel(liters). Then create subclasses\n",
    "Car and Truck that inherit from Vehicle, where Truck overrides drive() to \n",
    "consume more fuel. Include a simple test showing inheritance and overriding in action."
   ]
  },
  {
   "cell_type": "markdown",
   "id": "ac212687-7b61-4f38-82f8-5f631a3e3ae8",
   "metadata": {},
   "source": [
    "## ChatGPT Code"
   ]
  },
  {
   "cell_type": "code",
   "execution_count": 13,
   "id": "176cf64f-e4b3-4225-b9dc-acff1c9ac02f",
   "metadata": {},
   "outputs": [
    {
     "name": "stdout",
     "output_type": "stream",
     "text": [
      "40.0\n",
      "88.0\n"
     ]
    }
   ],
   "source": [
    "class Vehicle:\n",
    "    def __init__(self, color, mileage, fuel_liters):\n",
    "        self.color = color\n",
    "        self.mileage = mileage\n",
    "        self.fuel_liters = fuel_liters\n",
    "\n",
    "    def drive(self, km, km_per_liter):\n",
    "        fuel_needed = km / km_per_liter\n",
    "        if fuel_needed <= self.fuel_liters:\n",
    "            self.mileage += km\n",
    "            self.fuel_liters -= fuel_needed\n",
    "        else:\n",
    "            print(\"Not enough fuel to drive.\")\n",
    "\n",
    "    def refuel(self, liters):\n",
    "        self.fuel_liters += liters\n",
    "\n",
    "\n",
    "class Car(Vehicle):\n",
    "    pass\n",
    "\n",
    "\n",
    "class Truck(Vehicle):\n",
    "    def drive(self, km, km_per_liter):\n",
    "        # Trucks consume 20% more fuel\n",
    "        fuel_needed = (km / km_per_liter) * 1.2\n",
    "        if fuel_needed <= self.fuel_liters:\n",
    "            self.mileage += km\n",
    "            self.fuel_liters -= fuel_needed\n",
    "        else:\n",
    "            print(\"Not enough fuel to drive.\")\n",
    "\n",
    "\n",
    "car = Car(\"Red\", 5000, 50)\n",
    "truck = Truck(\"Blue\", 8000, 100)\n",
    "\n",
    "car.drive(100, 10)\n",
    "truck.drive(100, 10)\n",
    "print(car.fuel_liters)\n",
    "print(truck.fuel_liters)"
   ]
  },
  {
   "cell_type": "markdown",
   "id": "d72074e8-f785-4064-926d-e9503cc0d0d1",
   "metadata": {},
   "source": [
    "## Critique\n",
    "𝐂𝐎𝐑𝐑𝐄𝐂𝐓𝐈𝐍𝐄𝐒𝐒: Car and Truck correctly inherit from Vehicle. The overridden Truck.drive() consumes 20% more fuel. The drive() method updates mileage and reduces fuel properly. refuel() adds to fuel successfully.\n",
    "\n",
    "𝐂𝐎𝐌𝐏𝐋𝐄𝐗𝐈𝐓𝐘: O(1) for both drive() and refuel() operations.\n",
    "\n",
    "𝐑𝐎𝐁𝐔𝐒𝐓𝐍𝐄𝐒𝐒: Handles insufficient fuel cases properly. Could improve by preventing negative fuel more explicitly. No input validation for non-numeric parameters (km, km_per_liter). Could add type hints and docstrings for clarity.\n",
    "\n",
    "𝐑𝐄𝐀𝐃𝐀𝐁𝐈𝐋𝐈𝐓𝐘: Readable but lacks documentation. Method naming follows conventions. Demonstrates inheritance well but could improve by showing super() usage or polymorphic behavior.\n",
    "\n",
    "𝐅𝐀𝐈𝐓𝐇𝐅𝐔𝐋𝐍𝐄𝐒𝐒: The program effectively implements all instructions, demonstrating a strong understanding of classes and methods. Its representation of cars and trucks closely mirrors real world functionality."
   ]
  },
  {
   "cell_type": "markdown",
   "id": "b0acf281-cd88-4132-8aaf-0e6d0e7ae9b2",
   "metadata": {},
   "source": [
    "## Improved Code"
   ]
  },
  {
   "cell_type": "code",
   "execution_count": 14,
   "id": "7265bcad-d3c4-4548-be24-c8d5dec69770",
   "metadata": {},
   "outputs": [
    {
     "name": "stdout",
     "output_type": "stream",
     "text": [
      "Initial fuel (Car): 50\n",
      "Initial fuel (Truck): 100\n",
      "Drove 100 km. Remaining fuel: 40.00 L.\n",
      "Truck drove 100 km. Remaining fuel: 88.00 L.\n",
      "Car mileage: 5100\n",
      "Truck mileage: 8100\n",
      "Car remaining fuel: 40.0\n",
      "Truck remaining fuel: 88.0\n",
      "Refueled 10 L. Total fuel: 50.00 L.\n",
      "Refueled 20 L. Total fuel: 108.00 L.\n"
     ]
    }
   ],
   "source": [
    "class Vehicle:\n",
    "    def __init__(self, color: str, mileage: float, fuel_liters: float):\n",
    "        self.color = color\n",
    "        self.mileage = mileage\n",
    "        self.fuel_liters = fuel_liters\n",
    "\n",
    "    def drive(self, km: float, km_per_liter: float) -> None:\n",
    "        fuel_needed = km / km_per_liter\n",
    "        if fuel_needed <= self.fuel_liters:\n",
    "            self.mileage += km\n",
    "            self.fuel_liters -= fuel_needed\n",
    "            print(f\"Drove {km} km. Remaining fuel: {self.fuel_liters:.2f} L.\")\n",
    "        else:\n",
    "            print(\"Not enough fuel to drive that distance.\")\n",
    "\n",
    "    def refuel(self, liters: float) -> None:\n",
    "        self.fuel_liters += liters\n",
    "        print(f\"Refueled {liters} L. Total fuel: {self.fuel_liters:.2f} L.\")\n",
    "\n",
    "\n",
    "class Car(Vehicle):\n",
    "    \"\"\"A simple car inheriting from Vehicle.\"\"\"\n",
    "    pass\n",
    "\n",
    "\n",
    "class Truck(Vehicle):\n",
    "    \"\"\"A truck that consumes more fuel than a regular vehicle.\"\"\"\n",
    "    def drive(self, km: float, km_per_liter: float) -> None:\n",
    "        fuel_needed = (km / km_per_liter) * 1.2  # 20% more fuel consumption\n",
    "        if fuel_needed <= self.fuel_liters:\n",
    "            self.mileage += km\n",
    "            self.fuel_liters -= fuel_needed\n",
    "            print(f\"Truck drove {km} km. Remaining fuel: {self.fuel_liters:.2f} L.\")\n",
    "        else:\n",
    "            print(\"Not enough fuel to drive that distance.\")\n",
    "\n",
    "\n",
    "# --- Test Script ---\n",
    "car = Car(\"Red\", 5000, 50)\n",
    "truck = Truck(\"Blue\", 8000, 100)\n",
    "\n",
    "print(\"Initial fuel (Car):\", car.fuel_liters)\n",
    "print(\"Initial fuel (Truck):\", truck.fuel_liters)\n",
    "\n",
    "car.drive(100, 10)\n",
    "truck.drive(100, 10)\n",
    "\n",
    "print(\"Car mileage:\", car.mileage)\n",
    "print(\"Truck mileage:\", truck.mileage)\n",
    "print(\"Car remaining fuel:\", car.fuel_liters)\n",
    "print(\"Truck remaining fuel:\", truck.fuel_liters)\n",
    "\n",
    "car.refuel(10)\n",
    "truck.refuel(20)\n"
   ]
  },
  {
   "cell_type": "markdown",
   "id": "94641687-8fcf-4245-bc63-56a4d0d54418",
   "metadata": {},
   "source": [
    "## Q8. OOP + Composition: Kennel with Dogs\n",
    "Using a Dog class (name, age, breed,bark()), implement a Kennel manager that holds multiple Dog instances, supports add_dog, remove_dog, oldest_dog(), and find_by_breed(breed). Compare composition vs. inheritance for this scenario. Anchor concepts: OOP design, managing collections of objects. Reference: :contentReference[oaicite:14]index=14"
   ]
  },
  {
   "cell_type": "markdown",
   "id": "12de84bc-9795-4b32-b7f5-1fe08125c8b7",
   "metadata": {},
   "source": [
    "## Prompt\n",
    "Create a Dog class (name, age, breed, bark()) and a Kennel class that holds multiple\n",
    "Dog instances. Kennel should support add_dog, remove_dog(name), oldest_dog(),\n",
    "and find_by_breed(breed). Demonstrate composition (Kennel \"has\" Dogs) and explain \n",
    "why inheritance is not appropriate here."
   ]
  },
  {
   "cell_type": "markdown",
   "id": "3610b90d-f5a1-4987-90a4-e7e264e78c96",
   "metadata": {},
   "source": [
    "## ChatGPT Code"
   ]
  },
  {
   "cell_type": "code",
   "execution_count": 17,
   "id": "7bbf01d0-4e89-4dee-a23d-b98c61309b12",
   "metadata": {},
   "outputs": [
    {
     "name": "stdout",
     "output_type": "stream",
     "text": [
      "['Buddy', 'Luna']\n",
      "Rex\n"
     ]
    }
   ],
   "source": [
    "class Dog:\n",
    "    def __init__(self, name, age, breed):\n",
    "        self.name = name\n",
    "        self.age = age\n",
    "        self.breed = breed\n",
    "\n",
    "    def bark(self):\n",
    "        return f\"{self.name} says woof!\"\n",
    "\n",
    "\n",
    "class Kennel:\n",
    "    def __init__(self):\n",
    "        self.dogs = []\n",
    "\n",
    "    def add_dog(self, dog):\n",
    "        self.dogs.append(dog)\n",
    "\n",
    "    def remove_dog(self, name):\n",
    "        self.dogs = [d for d in self.dogs if d.name != name]\n",
    "\n",
    "    def oldest_dog(self):\n",
    "        return max(self.dogs, key=lambda d: d.age, default=None)\n",
    "\n",
    "    def find_by_breed(self, breed):\n",
    "        return [d for d in self.dogs if d.breed.lower() == breed.lower()]\n",
    "\n",
    "\n",
    "# Example\n",
    "kennel = Kennel()\n",
    "kennel.add_dog(Dog(\"Buddy\", 5, \"Beagle\"))\n",
    "kennel.add_dog(Dog(\"Rex\", 8, \"Bulldog\"))\n",
    "kennel.add_dog(Dog(\"Luna\", 3, \"Beagle\"))\n",
    "\n",
    "print([d.name for d in kennel.find_by_breed(\"Beagle\")])\n",
    "print(kennel.oldest_dog().name)\n"
   ]
  },
  {
   "cell_type": "markdown",
   "id": "bdc0a3e2-27e1-418c-9493-ab721ac5ce94",
   "metadata": {},
   "source": [
    "## Critique\n",
    "𝐂𝐎𝐑𝐑𝐄𝐂𝐓𝐈𝐍𝐄𝐒𝐒: Adds, removes, and searches dogs as expected. Returns oldest dog correctly using max(). bark() function works. Properly demonstrates composition — Kennel has Dog objects.\n",
    "\n",
    "𝐂𝐎𝐌𝐏𝐋𝐄𝐗𝐈𝐓𝐘: O(n) for searching and filtering, acceptable for small to medium collections.\n",
    "\n",
    "𝐑𝐎𝐁𝐔𝐒𝐓𝐍𝐄𝐒𝐒: Handles empty kennel gracefully with default=None in max(). Could add type checking to ensure only Dog objects are added. Removing non-existing dogs silently does nothing — acceptable behavior for simplicity.\n",
    "\n",
    "𝐑𝐄𝐀𝐃𝐀𝐁𝐈𝐋𝐈𝐓𝐘: Could use type hints and docstrings for clarity. Could include formatted print outputs in test section.\n",
    "\n",
    "𝐅𝐀𝐈𝐓𝐇𝐅𝐔𝐋𝐍𝐄𝐒𝐒: Accurately demonstrates composition: the Kennel contains Dog instances."
   ]
  },
  {
   "cell_type": "markdown",
   "id": "152ee893-d149-4bc4-848e-20aaad80ccab",
   "metadata": {},
   "source": [
    "## Improved Code"
   ]
  },
  {
   "cell_type": "code",
   "execution_count": 19,
   "id": "4c83b7e0-7f31-4950-9b7f-c2f369acbd94",
   "metadata": {},
   "outputs": [
    {
     "name": "stdout",
     "output_type": "stream",
     "text": [
      "Buddy added to the kennel.\n",
      "Rex added to the kennel.\n",
      "Luna added to the kennel.\n",
      "The oldest dog is Rex, age 8.\n",
      "Found 2 dog(s) of breed 'Beagle'.\n",
      "Luna removed from the kennel.\n",
      "Buddy says Woof!\n",
      "Rex says Woof!\n"
     ]
    }
   ],
   "source": [
    "class Dog:\n",
    "    def __init__(self, name: str, age: int, breed: str):\n",
    "        self.name = name\n",
    "        self.age = age\n",
    "        self.breed = breed\n",
    "\n",
    "    def bark(self) -> str:\n",
    "        return f\"{self.name} says Woof!\"\n",
    "\n",
    "\n",
    "class Kennel:\n",
    "    def __init__(self):\n",
    "        self.dogs: list[Dog] = []\n",
    "\n",
    "    def add_dog(self, dog: Dog) -> None:\n",
    "        if isinstance(dog, Dog):\n",
    "            self.dogs.append(dog)\n",
    "            print(f\"{dog.name} added to the kennel.\")\n",
    "        else:\n",
    "            print(\"Only Dog objects can be added.\")\n",
    "\n",
    "    def remove_dog(self, name: str) -> None:\n",
    "        before_count = len(self.dogs)\n",
    "        self.dogs = [d for d in self.dogs if d.name.lower() != name.lower()]\n",
    "        if len(self.dogs) < before_count:\n",
    "            print(f\"{name} removed from the kennel.\")\n",
    "        else:\n",
    "            print(f\"No dog named {name} found.\")\n",
    "\n",
    "    def oldest_dog(self) -> Dog | None:\n",
    "        if not self.dogs:\n",
    "            print(\"No dogs in the kennel.\")\n",
    "            return None\n",
    "        oldest = max(self.dogs, key=lambda d: d.age)\n",
    "        print(f\"The oldest dog is {oldest.name}, age {oldest.age}.\")\n",
    "        return oldest\n",
    "\n",
    "    def find_by_breed(self, breed: str) -> list[Dog]:\n",
    "        matches = [d for d in self.dogs if d.breed.lower() == breed.lower()]\n",
    "        print(f\"Found {len(matches)} dog(s) of breed '{breed}'.\")\n",
    "        return matches\n",
    "\n",
    "\n",
    "# --- Test Script ---\n",
    "kennel = Kennel()\n",
    "\n",
    "dog1 = Dog(\"Buddy\", 5, \"Beagle\")\n",
    "dog2 = Dog(\"Rex\", 8, \"Bulldog\")\n",
    "dog3 = Dog(\"Luna\", 3, \"Beagle\")\n",
    "\n",
    "kennel.add_dog(dog1)\n",
    "kennel.add_dog(dog2)\n",
    "kennel.add_dog(dog3)\n",
    "\n",
    "kennel.oldest_dog()\n",
    "kennel.find_by_breed(\"Beagle\")\n",
    "\n",
    "kennel.remove_dog(\"Luna\")\n",
    "\n",
    "for d in kennel.dogs:\n",
    "    print(d.bark())"
   ]
  },
  {
   "cell_type": "markdown",
   "id": "948608a4-cc7f-4d61-9446-2bdec36986ac",
   "metadata": {},
   "source": [
    "## Q9. Modules and Packages: Helpers\n",
    "Create a package helpers/ with modules string_utils.py (function shout(s) uppercases) and math_utils.py (function area(l,w)). Then a main.py that imports with both import ... as ... and from ... import .... Explain namespace collisions and why aliases help. Anchor con- cepts: modules, packages, import variations, namespaces. Reference: :contentRe- ference[oaicite:15]index=15"
   ]
  },
  {
   "cell_type": "markdown",
   "id": "9a12d101-265d-4ba8-8044-3a10db77ff6d",
   "metadata": {},
   "source": [
    "## Prompt\n",
    "Create a Python package named helpers with two modules: \n",
    "string_utils.py containing shout(s) that uppercases text, \n",
    "and math_utils.py containing area(l, w) that returns length * width. \n",
    "Then write main.py that imports both modules using aliases and demonstrates \n",
    "function calls. Explain namespace collisions and how aliases help prevent them."
   ]
  },
  {
   "cell_type": "markdown",
   "id": "80210d17-a730-4167-b1bf-d14307ec136a",
   "metadata": {},
   "source": [
    "## ChatGPT Code"
   ]
  },
  {
   "cell_type": "code",
   "execution_count": 21,
   "id": "e2217e27-22fc-4142-a626-137022de82c1",
   "metadata": {},
   "outputs": [
    {
     "ename": "NameError",
     "evalue": "name 'helpers' is not defined",
     "output_type": "error",
     "traceback": [
      "\u001b[1;31m---------------------------------------------------------------------------\u001b[0m",
      "\u001b[1;31mNameError\u001b[0m                                 Traceback (most recent call last)",
      "Cell \u001b[1;32mIn[21], line 4\u001b[0m\n\u001b[0;32m      1\u001b[0m \u001b[38;5;28;01mdef\u001b[39;00m\u001b[38;5;250m \u001b[39m\u001b[38;5;21mshout\u001b[39m(s):\n\u001b[0;32m      2\u001b[0m     \u001b[38;5;28;01mreturn\u001b[39;00m s\u001b[38;5;241m.\u001b[39mupper()\n\u001b[1;32m----> 4\u001b[0m helpers\u001b[38;5;241m/\u001b[39mmath_utils\u001b[38;5;241m.\u001b[39mpy\n\u001b[0;32m      6\u001b[0m \u001b[38;5;28;01mdef\u001b[39;00m\u001b[38;5;250m \u001b[39m\u001b[38;5;21marea\u001b[39m(l, w):\n\u001b[0;32m      7\u001b[0m     \u001b[38;5;28;01mreturn\u001b[39;00m l \u001b[38;5;241m*\u001b[39m w\n",
      "\u001b[1;31mNameError\u001b[0m: name 'helpers' is not defined"
     ]
    }
   ],
   "source": []
  },
  {
   "cell_type": "code",
   "execution_count": null,
   "id": "c06e5068-5804-4e20-82ef-70c93732645f",
   "metadata": {},
   "outputs": [],
   "source": []
  }
 ],
 "metadata": {
  "kernelspec": {
   "display_name": "Python 3 (ipykernel)",
   "language": "python",
   "name": "python3"
  },
  "language_info": {
   "codemirror_mode": {
    "name": "ipython",
    "version": 3
   },
   "file_extension": ".py",
   "mimetype": "text/x-python",
   "name": "python",
   "nbconvert_exporter": "python",
   "pygments_lexer": "ipython3",
   "version": "3.13.5"
  }
 },
 "nbformat": 4,
 "nbformat_minor": 5
}

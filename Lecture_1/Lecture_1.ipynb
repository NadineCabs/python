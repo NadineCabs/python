{
 "cells": [
  {
   "cell_type": "markdown",
   "id": "0aab2460-e2a3-4a39-86db-a23e73a5b1a5",
   "metadata": {},
   "source": [
    "# Review Questions 1"
   ]
  },
  {
   "cell_type": "code",
   "execution_count": 1,
   "id": "ff7b013d-bdd8-4be4-b701-5773f116a05c",
   "metadata": {},
   "outputs": [
    {
     "name": "stdout",
     "output_type": "stream",
     "text": [
      "8\n"
     ]
    }
   ],
   "source": [
    "var1 = \"Ink Game\"\n",
    "print(len(var1))"
   ]
  },
  {
   "cell_type": "code",
   "execution_count": 2,
   "id": "2344abdd-8629-4d58-a101-bc2420eeff21",
   "metadata": {},
   "outputs": [
    {
     "name": "stdout",
     "output_type": "stream",
     "text": [
      "InkGame\n"
     ]
    }
   ],
   "source": [
    "word = \"Ink\"\n",
    "word1 = \"Game\"\n",
    "result = word + word1\n",
    "print(result)"
   ]
  },
  {
   "cell_type": "code",
   "execution_count": 3,
   "id": "1bd25192-4403-41b2-b6a3-27cd4612a340",
   "metadata": {},
   "outputs": [
    {
     "name": "stdout",
     "output_type": "stream",
     "text": [
      "Ink Game\n"
     ]
    }
   ],
   "source": [
    "word = \"Ink\"\n",
    "word1 = \"Game\"\n",
    "result = word + \" \" + word1\n",
    "print(result)"
   ]
  },
  {
   "cell_type": "code",
   "execution_count": 4,
   "id": "245cfcdf-51ee-471e-a604-b43b5547818f",
   "metadata": {},
   "outputs": [
    {
     "name": "stdout",
     "output_type": "stream",
     "text": [
      "fox\n"
     ]
    }
   ],
   "source": [
    "text = \"The quick brown fox jumped over the lazy dog\"\n",
    "print(text[16:19])"
   ]
  },
  {
   "cell_type": "markdown",
   "id": "d99f578b-55e0-4208-84dc-96611f483cfb",
   "metadata": {},
   "source": [
    "# Review Questions 2"
   ]
  },
  {
   "cell_type": "code",
   "execution_count": 5,
   "id": "d64a85cd-bc6d-4a46-a632-dba141cda523",
   "metadata": {},
   "outputs": [
    {
     "name": "stdout",
     "output_type": "stream",
     "text": [
      "animals, badger, honey bee, honeybadger\n"
     ]
    }
   ],
   "source": [
    "script = \"ANIMALS, BADGER, HONEY BEE, HONEYBADGER\"\n",
    "print(script.lower())"
   ]
  },
  {
   "cell_type": "code",
   "execution_count": 6,
   "id": "d2b7d034-62c5-41be-bd4c-fae625e1fc07",
   "metadata": {},
   "outputs": [
    {
     "name": "stdout",
     "output_type": "stream",
     "text": [
      "ANIMALS, BADGER, HONEY BEE, HONEYBADGER\n"
     ]
    }
   ],
   "source": [
    "script1 = \"Animals, Badger, Honey Bee, Honeybadger\"\n",
    "print(script1.upper())"
   ]
  },
  {
   "cell_type": "code",
   "execution_count": 7,
   "id": "f9c90dd0-ff20-4265-8c82-e2d7fc487e60",
   "metadata": {},
   "outputs": [
    {
     "name": "stdout",
     "output_type": "stream",
     "text": [
      "Filet Mignon\n",
      "Brisket\n"
     ]
    }
   ],
   "source": [
    "string1 = \"     Filet Mignon \"\n",
    "string2 = \"Brisket     \"\n",
    "print(string1.strip())\n",
    "print(string2.strip())"
   ]
  },
  {
   "cell_type": "code",
   "execution_count": 8,
   "id": "0466e80c-1f42-4241-a1c4-20ca17b804a2",
   "metadata": {},
   "outputs": [
    {
     "name": "stdout",
     "output_type": "stream",
     "text": [
      "False\n",
      "True\n"
     ]
    }
   ],
   "source": [
    "string1 = \"Becomes\"\n",
    "string2 = \"becomes\"\n",
    "print(string1.startswith(\"be\"))\n",
    "print(string2.startswith(\"be\"))"
   ]
  },
  {
   "cell_type": "code",
   "execution_count": 9,
   "id": "b3de7ea2-2c06-4200-9dd1-7769eef14a68",
   "metadata": {},
   "outputs": [
    {
     "name": "stdout",
     "output_type": "stream",
     "text": [
      "True\n",
      "True\n"
     ]
    }
   ],
   "source": [
    "string1 = \"Becomes\".lower()\n",
    "print(string1.startswith(\"be\"))\n",
    "string2 = \"becomes\"\n",
    "print(string2.startswith(\"be\"))"
   ]
  },
  {
   "cell_type": "markdown",
   "id": "2f2db7cd-0cbc-4cc1-866b-855a46f4e5d0",
   "metadata": {},
   "source": [
    "# Review Questions 3"
   ]
  },
  {
   "cell_type": "code",
   "execution_count": 10,
   "id": "5f9b6d84-731a-4ed7-8739-025b6b6c31b0",
   "metadata": {},
   "outputs": [
    {
     "name": "stdin",
     "output_type": "stream",
     "text": [
      "Enter your name?:  nadine\n"
     ]
    },
    {
     "name": "stdout",
     "output_type": "stream",
     "text": [
      "nadine\n"
     ]
    }
   ],
   "source": [
    "name = input(\"Enter your name?: \")\n",
    "print(name)"
   ]
  },
  {
   "cell_type": "code",
   "execution_count": 11,
   "id": "3259a4e4-726d-4a10-9c9c-f7f2a25917c3",
   "metadata": {},
   "outputs": [
    {
     "name": "stdin",
     "output_type": "stream",
     "text": [
      "What is your name?: NADINE\n"
     ]
    },
    {
     "name": "stdout",
     "output_type": "stream",
     "text": [
      "My name is NADINE\n"
     ]
    }
   ],
   "source": [
    "prompt = \"What is your name?:\"\n",
    "user_input = input(prompt)\n",
    "print(\"My name is \" + user_input)"
   ]
  },
  {
   "cell_type": "code",
   "execution_count": 14,
   "id": "f50507bb-1d1e-4c99-a15d-b40dde869aa1",
   "metadata": {},
   "outputs": [
    {
     "name": "stdin",
     "output_type": "stream",
     "text": [
      "Enter your name: Nadine\n"
     ]
    },
    {
     "name": "stdout",
     "output_type": "stream",
     "text": [
      "6\n"
     ]
    }
   ],
   "source": [
    "text = input(\"Enter your name:\")\n",
    "print(len(text))"
   ]
  },
  {
   "cell_type": "markdown",
   "id": "87ff7107-0613-4b6d-81dd-b445157ddbfd",
   "metadata": {},
   "source": [
    "# Review Question 4"
   ]
  },
  {
   "cell_type": "code",
   "execution_count": 12,
   "id": "65d938b3-3360-4463-b944-5dc4525231ed",
   "metadata": {},
   "outputs": [
    {
     "name": "stdin",
     "output_type": "stream",
     "text": [
      "Tell me your name:  Nadine\n"
     ]
    },
    {
     "name": "stdout",
     "output_type": "stream",
     "text": [
      "First letter: N\n"
     ]
    }
   ],
   "source": [
    "name = input(\"Tell me your name: \")\n",
    "first = name[0].upper()\n",
    "print(\"First letter:\", first)"
   ]
  },
  {
   "cell_type": "markdown",
   "id": "6dc3e5e7-3b54-4805-b34d-e75b1aac26fc",
   "metadata": {},
   "source": [
    "# Review Questions 5"
   ]
  },
  {
   "cell_type": "code",
   "execution_count": 18,
   "id": "9a6678be-3e16-4e20-8766-d85b82b620e5",
   "metadata": {},
   "outputs": [
    {
     "data": {
      "text/plain": [
       "60"
      ]
     },
     "execution_count": 18,
     "metadata": {},
     "output_type": "execute_result"
    }
   ],
   "source": [
    "integer = int(\"12\") * 5\n",
    "integer"
   ]
  },
  {
   "cell_type": "code",
   "execution_count": 20,
   "id": "fda5ee1d-fbae-45bd-afae-8e7ac89b8179",
   "metadata": {},
   "outputs": [
    {
     "data": {
      "text/plain": [
       "6.28"
      ]
     },
     "execution_count": 20,
     "metadata": {},
     "output_type": "execute_result"
    }
   ],
   "source": [
    "number = float(\"3.14\") * 2\n",
    "number"
   ]
  },
  {
   "cell_type": "code",
   "execution_count": 21,
   "id": "732fa7df-ce95-41a1-9983-4b1c01495712",
   "metadata": {},
   "outputs": [
    {
     "name": "stdout",
     "output_type": "stream",
     "text": [
      "123 12.28\n"
     ]
    }
   ],
   "source": [
    "string = \"123\"\n",
    "number = 12.28\n",
    "print(string, str(number))"
   ]
  },
  {
   "cell_type": "code",
   "execution_count": 22,
   "id": "27234184-8d98-475e-8735-4330a1939f48",
   "metadata": {},
   "outputs": [
    {
     "name": "stdin",
     "output_type": "stream",
     "text": [
      "Enter first number:  6\n",
      "Enter second number:  10\n"
     ]
    },
    {
     "name": "stdout",
     "output_type": "stream",
     "text": [
      "Result: 60\n"
     ]
    }
   ],
   "source": [
    "x = int(input(\"Enter first number: \"))\n",
    "y = int(input(\"Enter second number: \"))\n",
    "print(\"Result:\", x * y)"
   ]
  },
  {
   "cell_type": "markdown",
   "id": "7a7581d7-0ba0-47e5-8918-9cdc746ad0f2",
   "metadata": {},
   "source": [
    "# Review Questions 6"
   ]
  },
  {
   "cell_type": "code",
   "execution_count": 24,
   "id": "e104f25c-5866-4aa5-a45b-1d35af50c104",
   "metadata": {},
   "outputs": [
    {
     "name": "stdout",
     "output_type": "stream",
     "text": [
      "1\n"
     ]
    }
   ],
   "source": [
    "print(\"AaA\".find(\"a\"))"
   ]
  },
  {
   "cell_type": "code",
   "execution_count": 25,
   "id": "6171f762-4771-4da1-a505-e46b4c15f0d5",
   "metadata": {},
   "outputs": [
    {
     "data": {
      "text/plain": [
       "'Somebody yaid yomething to Samantha'"
      ]
     },
     "execution_count": 25,
     "metadata": {},
     "output_type": "execute_result"
    }
   ],
   "source": [
    "string=\"Somebody said something to Samantha\"\n",
    "string.replace('s','y')"
   ]
  },
  {
   "cell_type": "code",
   "execution_count": 27,
   "id": "edd2888a-9493-40a0-b835-60561d3d5c84",
   "metadata": {},
   "outputs": [
    {
     "name": "stdin",
     "output_type": "stream",
     "text": [
      "Enter your name:  Jovelyn\n",
      "Enter a letter to find:  y\n"
     ]
    },
    {
     "name": "stdout",
     "output_type": "stream",
     "text": [
      "5\n"
     ]
    }
   ],
   "source": [
    "text = input(\"Enter your name: \")\n",
    "letter = input(\"Enter a letter to find: \")\n",
    "print(text.find(letter))"
   ]
  },
  {
   "cell_type": "code",
   "execution_count": 29,
   "id": "326d59b7-a198-475d-af11-d7aa179b65f4",
   "metadata": {},
   "outputs": [
    {
     "name": "stdin",
     "output_type": "stream",
     "text": [
      "type something:  yes\n"
     ]
    },
    {
     "name": "stdout",
     "output_type": "stream",
     "text": [
      "0\n"
     ]
    }
   ],
   "source": [
    "prompt = \"type something: \"\n",
    "user_input = input(prompt)\n",
    "print(user_input.find(\"yes\"))"
   ]
  },
  {
   "cell_type": "markdown",
   "id": "b6855fa9-a994-4977-bcc4-88ff48188f59",
   "metadata": {},
   "source": [
    "# Review Question 7"
   ]
  },
  {
   "cell_type": "code",
   "execution_count": 30,
   "id": "684d3dd4-18e8-4a5b-a7db-6643cdadbba3",
   "metadata": {},
   "outputs": [
    {
     "name": "stdin",
     "output_type": "stream",
     "text": [
      "Enter some text:  The quick brown fox jumped over the lazy dog\n"
     ]
    },
    {
     "name": "stdout",
     "output_type": "stream",
     "text": [
      "7h3 quick 8r0wn f0x jump3d 0v3r 7h3 14zy d0g\n"
     ]
    }
   ],
   "source": [
    "text = input(\"Enter some text: \")\n",
    "leet = text.lower()\n",
    "leet = leet.replace(\"a\", \"4\").replace(\"b\", \"8\").replace(\"e\", \"3\")\n",
    "leet = leet.replace(\"l\", \"1\").replace(\"o\", \"0\").replace(\"s\", \"5\").replace(\"t\", \"7\")\n",
    "print(leet)"
   ]
  },
  {
   "cell_type": "code",
   "execution_count": null,
   "id": "6be0cc7e-44b1-4f1f-aeca-b01132359d7c",
   "metadata": {},
   "outputs": [],
   "source": []
  }
 ],
 "metadata": {
  "kernelspec": {
   "display_name": "Python 3 (ipykernel)",
   "language": "python",
   "name": "python3"
  },
  "language_info": {
   "codemirror_mode": {
    "name": "ipython",
    "version": 3
   },
   "file_extension": ".py",
   "mimetype": "text/x-python",
   "name": "python",
   "nbconvert_exporter": "python",
   "pygments_lexer": "ipython3",
   "version": "3.13.5"
  }
 },
 "nbformat": 4,
 "nbformat_minor": 5
}

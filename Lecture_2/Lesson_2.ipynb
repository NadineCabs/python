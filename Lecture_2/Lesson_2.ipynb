{
 "cells": [
  {
   "cell_type": "markdown",
   "id": "c89c7b17-0c0e-4b77-88da-24ce31d0f285",
   "metadata": {},
   "source": [
    "# Review Questions 1"
   ]
  },
  {
   "cell_type": "code",
   "execution_count": 1,
   "id": "3300f16a-23df-4f05-a265-890fd002b82c",
   "metadata": {},
   "outputs": [
    {
     "name": "stdout",
     "output_type": "stream",
     "text": [
      "(25, 0, 0)\n",
      "25000000\n"
     ]
    }
   ],
   "source": [
    "num1 = 25,000,000\n",
    "num2 = 25_000_000\n",
    "print(num1)\n",
    "print(num2)"
   ]
  },
  {
   "cell_type": "code",
   "execution_count": 2,
   "id": "75692568-69cb-47a8-9b25-25a917b1c99f",
   "metadata": {},
   "outputs": [
    {
     "name": "stdout",
     "output_type": "stream",
     "text": [
      "175000.0\n"
     ]
    }
   ],
   "source": [
    "num = 1.75e5\n",
    "print(num)"
   ]
  },
  {
   "cell_type": "code",
   "execution_count": 3,
   "id": "a4b84221-aa45-48f9-a30d-971153e94ad6",
   "metadata": {},
   "outputs": [
    {
     "name": "stdout",
     "output_type": "stream",
     "text": [
      "inf\n"
     ]
    }
   ],
   "source": [
    "N = 308\n",
    "num = 2e308\n",
    "print(num) "
   ]
  },
  {
   "cell_type": "markdown",
   "id": "ed10c6f8-361d-457a-9f9c-b0e054e253e1",
   "metadata": {},
   "source": [
    "# Review Question 2"
   ]
  },
  {
   "cell_type": "code",
   "execution_count": 5,
   "id": "16294faa-b76d-4e8d-a45d-da08c5233f64",
   "metadata": {},
   "outputs": [
    {
     "name": "stdin",
     "output_type": "stream",
     "text": [
      "Enter the first number : 8\n",
      "Enter the second number : 10\n"
     ]
    },
    {
     "name": "stdout",
     "output_type": "stream",
     "text": [
      "result : 80000000000.0\n"
     ]
    }
   ],
   "source": [
    "prompt=\"Enter the first number :\"\n",
    "num1 = input(prompt)\n",
    "prompt2 = \"Enter the second number :\"\n",
    "num2 = input(prompt2)\n",
    "result = float(num1+\"e\"+num2)\n",
    "print(\"result :\",result)"
   ]
  },
  {
   "cell_type": "markdown",
   "id": "7c4362b8-17ac-47c5-a0a3-e25cd6ff76dc",
   "metadata": {},
   "source": [
    "# Review Questions 3"
   ]
  },
  {
   "cell_type": "code",
   "execution_count": 6,
   "id": "24fb5eea-c6e9-42a4-b902-70c550daafb9",
   "metadata": {},
   "outputs": [
    {
     "name": "stdin",
     "output_type": "stream",
     "text": [
      "Enter a number:  10\n"
     ]
    },
    {
     "name": "stdout",
     "output_type": "stream",
     "text": [
      "Rounded to 2 decimals: 10.0\n"
     ]
    }
   ],
   "source": [
    "num = float(input(\"Enter a number: \"))\n",
    "print(f\"Rounded to 2 decimals: {round(num, 2)}\")"
   ]
  },
  {
   "cell_type": "code",
   "execution_count": 8,
   "id": "c2c855c6-de3e-4b36-af8b-c954aa06dd65",
   "metadata": {},
   "outputs": [
    {
     "name": "stdin",
     "output_type": "stream",
     "text": [
      "Enter a number:  -8\n"
     ]
    },
    {
     "name": "stdout",
     "output_type": "stream",
     "text": [
      "Absolute value: 8.0\n"
     ]
    }
   ],
   "source": [
    "num = float(input(\"Enter a number: \"))\n",
    "print(f\"Absolute value: {abs(num)}\")"
   ]
  },
  {
   "cell_type": "markdown",
   "id": "35ddeaa7-4c7b-4ca1-a204-0201165103c8",
   "metadata": {},
   "source": [
    "# Review Questions 4"
   ]
  },
  {
   "cell_type": "code",
   "execution_count": 9,
   "id": "5db68f8a-11fa-4a82-a5b8-8ca412fd43b4",
   "metadata": {},
   "outputs": [
    {
     "name": "stdin",
     "output_type": "stream",
     "text": [
      "Enter a number:  5\n",
      "Enter another number 10\n"
     ]
    },
    {
     "name": "stdout",
     "output_type": "stream",
     "text": [
      "The difference between 5 and 10 is an Integer? True!\n"
     ]
    }
   ],
   "source": [
    "prompt = \"Enter a number: \"\n",
    "num1 = input(prompt)\n",
    "prompt2 = \"Enter another number\"\n",
    "num2 = input(prompt2)\n",
    "diff = float(num1) - float(num2)\n",
    "print(f\"The difference between {num1} and {num2} is an Integer? {diff.is_integer()}!\")"
   ]
  },
  {
   "cell_type": "code",
   "execution_count": 18,
   "id": "38697bcb-3e48-40b4-9185-317e9bcefe96",
   "metadata": {},
   "outputs": [
    {
     "name": "stdout",
     "output_type": "stream",
     "text": [
      "1.147\n"
     ]
    }
   ],
   "source": [
    "num = 3**.125\n",
    "print( round(num,3))"
   ]
  },
  {
   "cell_type": "code",
   "execution_count": 20,
   "id": "0c731432-5357-4be8-86ba-436124fb2db2",
   "metadata": {},
   "outputs": [
    {
     "name": "stdout",
     "output_type": "stream",
     "text": [
      "Result :  $150000.00\n"
     ]
    }
   ],
   "source": [
    "num = 150000\n",
    "print(\"Result : \", f\"${num:.2f}\",)"
   ]
  },
  {
   "cell_type": "code",
   "execution_count": 24,
   "id": "18e8e157-1f36-4a34-b1ef-037c8dbda798",
   "metadata": {},
   "outputs": [
    {
     "name": "stdout",
     "output_type": "stream",
     "text": [
      "Result : 20%\n"
     ]
    }
   ],
   "source": [
    "num = 2/ 10\n",
    "print(\"Result :\",f\"{num:.0%}\")"
   ]
  },
  {
   "cell_type": "code",
   "execution_count": null,
   "id": "9f6a9986-9386-4b5e-b619-463cf185d05f",
   "metadata": {},
   "outputs": [],
   "source": []
  }
 ],
 "metadata": {
  "kernelspec": {
   "display_name": "Python 3 (ipykernel)",
   "language": "python",
   "name": "python3"
  },
  "language_info": {
   "codemirror_mode": {
    "name": "ipython",
    "version": 3
   },
   "file_extension": ".py",
   "mimetype": "text/x-python",
   "name": "python",
   "nbconvert_exporter": "python",
   "pygments_lexer": "ipython3",
   "version": "3.13.5"
  }
 },
 "nbformat": 4,
 "nbformat_minor": 5
}

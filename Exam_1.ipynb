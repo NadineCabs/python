{
 "cells": [
  {
   "cell_type": "markdown",
   "id": "16980897-6c12-44fe-a671-4f2755b01d7e",
   "metadata": {},
   "source": [
    "# 1st Long Exam 10/09/25"
   ]
  },
  {
   "cell_type": "markdown",
   "id": "d49c4e04-4dd4-4d1b-afe9-7bc4607e1406",
   "metadata": {},
   "source": [
    "# Name: Nadine B. Caballero ID:23822471"
   ]
  },
  {
   "cell_type": "code",
   "execution_count": 1,
   "id": "41acaa31-2c00-4441-8dfa-618b2f4cbdce",
   "metadata": {},
   "outputs": [
    {
     "name": "stdin",
     "output_type": "stream",
     "text": [
      "Enter your name:  Nadine\n"
     ]
    },
    {
     "name": "stdout",
     "output_type": "stream",
     "text": [
      "Hello Nadine!\n"
     ]
    }
   ],
   "source": [
    "# Question 1\n",
    "\n",
    "name=input(\"Enter your name: \")\n",
    "print(\"Hello\", name + \"!\")\n"
   ]
  },
  {
   "cell_type": "code",
   "execution_count": 2,
   "id": "dbe02234-a448-4fa3-8e71-22f11e81fe93",
   "metadata": {},
   "outputs": [
    {
     "name": "stdin",
     "output_type": "stream",
     "text": [
      "Enter a positive Integer:  5\n"
     ]
    },
    {
     "name": "stdout",
     "output_type": "stream",
     "text": [
      "The sum is: 15\n"
     ]
    }
   ],
   "source": [
    "# Question 2\n",
    "n=int(input(\"Enter a positive Integer: \"))\n",
    "sum_val=n*(n+1) //2\n",
    "print(\"The sum is:\", sum_val)"
   ]
  },
  {
   "cell_type": "code",
   "execution_count": null,
   "id": "fa91aef1-20d0-4ef6-a296-4e5fa80305cb",
   "metadata": {},
   "outputs": [],
   "source": []
  }
 ],
 "metadata": {
  "kernelspec": {
   "display_name": "Python 3 (ipykernel)",
   "language": "python",
   "name": "python3"
  },
  "language_info": {
   "codemirror_mode": {
    "name": "ipython",
    "version": 3
   },
   "file_extension": ".py",
   "mimetype": "text/x-python",
   "name": "python",
   "nbconvert_exporter": "python",
   "pygments_lexer": "ipython3",
   "version": "3.13.5"
  }
 },
 "nbformat": 4,
 "nbformat_minor": 5
}

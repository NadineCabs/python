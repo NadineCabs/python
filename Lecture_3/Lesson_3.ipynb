{
 "cells": [
  {
   "cell_type": "markdown",
   "id": "7c3e2a0a-e535-4fbd-b39d-0a5b4a63f132",
   "metadata": {},
   "source": [
    "# Review Questions 1"
   ]
  },
  {
   "cell_type": "code",
   "execution_count": 1,
   "id": "f77eede8-8b45-4f77-969d-75fbcb1478c8",
   "metadata": {},
   "outputs": [
    {
     "name": "stdout",
     "output_type": "stream",
     "text": [
      "8\n",
      "27\n",
      "64\n"
     ]
    }
   ],
   "source": [
    "def cube(n):\n",
    "    return n ** 3\n",
    "\n",
    "print(cube(2))\n",
    "print(cube(3))\n",
    "print(cube(4))"
   ]
  },
  {
   "cell_type": "code",
   "execution_count": 4,
   "id": "e3974b7c-af49-437f-9f71-a94f0b404d62",
   "metadata": {},
   "outputs": [
    {
     "name": "stdout",
     "output_type": "stream",
     "text": [
      "Hello Nadine!\n",
      "Hello Yuki!\n"
     ]
    }
   ],
   "source": [
    "def greet(name):\n",
    "    print(f\"Hello {name}!\")\n",
    "\n",
    "greet(\"Nadine\")\n",
    "greet(\"Yuki\")"
   ]
  },
  {
   "cell_type": "markdown",
   "id": "222d5581-2148-4eaa-a84a-43faa225f060",
   "metadata": {},
   "source": [
    "# Challenge"
   ]
  },
  {
   "cell_type": "code",
   "execution_count": 7,
   "id": "6c5f2b30-b579-4dc3-9b87-96eb9bf99644",
   "metadata": {},
   "outputs": [
    {
     "name": "stdin",
     "output_type": "stream",
     "text": [
      "Enter a temperature in degrees C: 39\n"
     ]
    },
    {
     "name": "stdout",
     "output_type": "stream",
     "text": [
      "39 degrees C = 102.20 degrees F\n"
     ]
    }
   ],
   "source": [
    "def convert_cel_to_far(celcius):\n",
    "    return (celcius * 9/5) + 32\n",
    "\n",
    "celcius = int(input(\"Enter a temperature in degrees C:\" ))\n",
    "farenheit =convert_cel_to_far(celcius)\n",
    "print(f\"{celcius} degrees C = {farenheit:.2f} degrees F\")"
   ]
  },
  {
   "cell_type": "code",
   "execution_count": 10,
   "id": "fd68d3ed-8d38-4d29-a334-fc3ea2ce604a",
   "metadata": {},
   "outputs": [
    {
     "name": "stdin",
     "output_type": "stream",
     "text": [
      "Enter a temperature in degrees F: 38\n"
     ]
    },
    {
     "data": {
      "text/plain": [
       "'38 degrees F = 3.33 degrees C'"
      ]
     },
     "execution_count": 10,
     "metadata": {},
     "output_type": "execute_result"
    }
   ],
   "source": [
    "def convert_far_to_cel(farenheit):\n",
    "    return float((farenheit - 32) * 5/9)\n",
    "farenheit = int(input(\"Enter a temperature in degrees F:\" ))\n",
    "celcius = convert_far_to_cel(farenheit)\n",
    "f\"{farenheit} degrees F = {celcius:.2f} degrees C\""
   ]
  },
  {
   "cell_type": "markdown",
   "id": "97b12e23-c1bc-4d9d-a055-78c818d7c522",
   "metadata": {},
   "source": [
    "# Review Questions 2"
   ]
  },
  {
   "cell_type": "code",
   "execution_count": 13,
   "id": "cad2a0f5-3cd8-465e-ae51-cbb7d51a9677",
   "metadata": {},
   "outputs": [
    {
     "name": "stdout",
     "output_type": "stream",
     "text": [
      "2\n",
      "3\n",
      "4\n",
      "5\n",
      "6\n",
      "7\n",
      "8\n",
      "9\n",
      "10\n"
     ]
    }
   ],
   "source": [
    "for i in range(2, 11):\n",
    "    print(i)"
   ]
  },
  {
   "cell_type": "code",
   "execution_count": 14,
   "id": "1ce0c7fe-aefa-46b2-9cec-d55c4f2007f4",
   "metadata": {},
   "outputs": [
    {
     "name": "stdout",
     "output_type": "stream",
     "text": [
      "2\n",
      "3\n",
      "4\n",
      "5\n",
      "6\n",
      "7\n",
      "8\n",
      "9\n",
      "10\n"
     ]
    }
   ],
   "source": [
    "num = 2\n",
    "while num <= 10:\n",
    "    print(num)\n",
    "    num += 1"
   ]
  },
  {
   "cell_type": "code",
   "execution_count": 15,
   "id": "56990d9f-c807-4128-a712-629245fe8ca4",
   "metadata": {},
   "outputs": [
    {
     "name": "stdout",
     "output_type": "stream",
     "text": [
      "4\n",
      "8\n",
      "16\n"
     ]
    }
   ],
   "source": [
    "def doubles(n):\n",
    "    return n * 2\n",
    "\n",
    "num = 2\n",
    "for i in range(3):\n",
    "    num = doubles(num)\n",
    "    print(num)"
   ]
  },
  {
   "cell_type": "code",
   "execution_count": null,
   "id": "fddffde5-f5f8-4198-99b6-2229227c5a1c",
   "metadata": {},
   "outputs": [],
   "source": []
  }
 ],
 "metadata": {
  "kernelspec": {
   "display_name": "Python 3 (ipykernel)",
   "language": "python",
   "name": "python3"
  },
  "language_info": {
   "codemirror_mode": {
    "name": "ipython",
    "version": 3
   },
   "file_extension": ".py",
   "mimetype": "text/x-python",
   "name": "python",
   "nbconvert_exporter": "python",
   "pygments_lexer": "ipython3",
   "version": "3.13.5"
  }
 },
 "nbformat": 4,
 "nbformat_minor": 5
}
